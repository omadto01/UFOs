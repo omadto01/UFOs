{
 "cells": [
  {
   "cell_type": "markdown",
   "metadata": {},
   "source": [
    "# Java Script - Java's distant cousin  🙈🙉🙊\n",
    "JavaScript is a (very) distant cousin of Java in that it is also an OOP language.\n",
    "<br>\n",
    "Many of their programming structures are similar. \n",
    "<br>\n",
    "However, JavaScript contains a much smaller and simpler set of commands than does Java.\n",
    "<br>\n",
    "<br>\n",
    "### THIS IS THE HOME FOR JAVASCRIPT KEEP THIS BOOKMARKED AT ALL TIMES:\n",
    "✨💞 https://www.w3schools.com/js/default.asp 💞✨"
   ]
  },
  {
   "cell_type": "markdown",
   "metadata": {},
   "source": [
    "### Variables:\n",
    "VAR:\n",
    "    - Variables declared with the var keyword cannot have Block Scope.\n",
    "    - Variables declared inside a block {} can be accessed from outside the block.\n",
    "Let:\n",
    "    - Variables declared with the let keyword can have Block Scope.\n",
    "    - Variables declared inside a block {} cannot be accessed from outside the block:"
   ]
  },
  {
   "cell_type": "code",
   "execution_count": null,
   "metadata": {},
   "outputs": [],
   "source": [
    "%%js\n",
    "var number1 = 1\n",
    "var pi = 3.14\n",
    "var carName;\n",
    "carName = \"volvo\"\n",
    "console.log(number1, pi, carName)"
   ]
  },
  {
   "cell_type": "code",
   "execution_count": null,
   "metadata": {},
   "outputs": [],
   "source": [
    "%%js\n",
    "var x = \"John\" + \" \" + \"Doe\";\n",
    "console.log(x)\n",
    "element.text(x)\n",
    "alert(x)"
   ]
  },
  {
   "cell_type": "code",
   "execution_count": null,
   "metadata": {},
   "outputs": [],
   "source": [
    "%%js\n",
    "var x = \"5\" + 2 + 3;\n",
    "element.text(x);"
   ]
  },
  {
   "cell_type": "code",
   "execution_count": null,
   "metadata": {},
   "outputs": [],
   "source": [
    "%%js\n",
    "var y = 2 + 3 + \"5\";\n",
    "element.text(y);"
   ]
  },
  {
   "cell_type": "code",
   "execution_count": null,
   "metadata": {},
   "outputs": [],
   "source": [
    "%%js\n",
    "var x = parseInt(\"5\")\n",
    "element.text(x + 5)"
   ]
  },
  {
   "cell_type": "code",
   "execution_count": null,
   "metadata": {},
   "outputs": [],
   "source": [
    "%%js\n",
    "{\n",
    "    var x = 5;\n",
    "    var y = 6;\n",
    "    var z = x + y;\n",
    "}\n",
    "\n",
    "//alert(z)\n",
    "//console.log(z)\n",
    "element.text(z)"
   ]
  },
  {
   "cell_type": "code",
   "execution_count": null,
   "metadata": {},
   "outputs": [],
   "source": [
    "%%js\n",
    "var o = 100\n",
    "{\n",
    "    let p = 1000\n",
    "    {\n",
    "        let x = 5;\n",
    "        let y = 6;\n",
    "        let z = x + y;\n",
    "        z = z + o\n",
    "        z = z + p\n",
    "        alert(z)\n",
    "\n",
    "    }\n",
    "}\n",
    "alert(p)\n",
    "element.text(z)"
   ]
  },
  {
   "cell_type": "markdown",
   "metadata": {},
   "source": [
    "### Functions: 😲😵\n",
    "Functions in Javascript are very similar to functions in python or Java.\n",
    "<br>\n",
    "You can define a function to be called later that takes in parameters, applies a manipulation, and returns an object back to original call. \n",
    "<br>\n",
    "First lets go over basic functions and how to define/use them."
   ]
  },
  {
   "cell_type": "code",
   "execution_count": null,
   "metadata": {},
   "outputs": [],
   "source": [
    "%%js\n",
    "function myFunction(a, b) {\n",
    "    console.log(a, b)\n",
    "    return a * b;             \n",
    "}\n",
    "\n",
    "\n",
    "var x = myFunction(4, 3); \n",
    "\n",
    "element.text(x)"
   ]
  },
  {
   "cell_type": "code",
   "execution_count": null,
   "metadata": {},
   "outputs": [],
   "source": [
    "%%js\n",
    "//this is an arrow function it can compress functions \n",
    "var hello\n",
    "hello = (a,b) => {\n",
    "  return a * b;;\n",
    "}\n",
    "element.text(hello(4,3))"
   ]
  },
  {
   "cell_type": "code",
   "execution_count": null,
   "metadata": {},
   "outputs": [],
   "source": [
    "%%js \n",
    "//notice we can define var outside of a function and it can be used inside the function\n",
    "\n",
    "var date = new Date();\n",
    "var time = date.getTime();\n",
    "var hours = date.getHours()\n",
    "\n",
    "function alertFunction() {\n",
    "    let messageReturn;\n",
    "    if (hours >= 12 && hours < 20){\n",
    "        messageReturn = \"good evening\";\n",
    "    }\n",
    "    else if(hours >=20 && hours < 4){\n",
    "        messageReturn = \"good night\";\n",
    "    }\n",
    "    else{\n",
    "        messageReturn = \"good morning\";\n",
    "    }\n",
    "    return messageReturn;\n",
    "}\n",
    "\n",
    "element.text(time)\n",
    "\n",
    "var message = alertFunction()\n",
    "console.log(\"hello: \" + message)\n",
    "element.text(\"hello: \" + message)\n",
    "// notice on the output that messageReturn can not be used because it is\n",
    "// encapsulated in the function due to the let definiton\n",
    "alert(messageReturn)"
   ]
  },
  {
   "cell_type": "markdown",
   "metadata": {},
   "source": [
    "### Arrays/Dictionaries\n",
    "There are special methods to interact with arrays in javascript\n",
    "\n",
    "Link on splicing:\n",
    "https://developer.mozilla.org/en-US/docs/Web/JavaScript/Reference/Global_Objects/Array/splice"
   ]
  },
  {
   "cell_type": "code",
   "execution_count": null,
   "metadata": {},
   "outputs": [],
   "source": [
    "%%js\n",
    "var cars1 = new Array(\"Saab\", \"Volvo\", \"BMW\");\n",
    "var cars2 = [\"Saab\", \"Volvo\", \"BMW\"];\n",
    "\n",
    "var numbers = [1,5,2,3,5]\n",
    "var combo = [1,\"name\"]\n",
    "console.log(combo)\n",
    "\n",
    "var person = {firstName:\"John\", lastName:\"Doe\", age:46};\n",
    "\n",
    "console.log(cars1.length)\n",
    "element.text(cars1.length)\n",
    "var numbersSorted = numbers.sort()\n",
    "\n",
    "console.log(numbersSorted)\n",
    "console.log(cars1[0])\n",
    "element.text(cars1[0])\n",
    "\n",
    "var key = \"firstName\"\n",
    "element.text(person[key])\n",
    "\n",
    "cars1.push(\"tesla\")\n",
    "// at index 1 i am removing 1 value ( volvo )\n",
    "cars1.splice(1,0, \"Honda\")\n",
    "element.text(cars1)"
   ]
  },
  {
   "cell_type": "code",
   "execution_count": null,
   "metadata": {},
   "outputs": [],
   "source": [
    "%%js\n",
    "var fruits, text, fLen, i;\n",
    "fruits = [\"Banana\", \"Orange\", \"Apple\", \"Mango\"];\n",
    "fLen = fruits.length;\n",
    "\n",
    "for (i = 0; i < fLen; i++) {\n",
    "  console.log(fruits[i])\n",
    "}"
   ]
  },
  {
   "cell_type": "markdown",
   "metadata": {},
   "source": [
    "ForEach function https://www.w3schools.com/jsref/jsref_foreach.asp"
   ]
  },
  {
   "cell_type": "code",
   "execution_count": null,
   "metadata": {},
   "outputs": [],
   "source": [
    "%%js\n",
    "var fruits, text;\n",
    "fruits = [\"Banana\", \"Orange\", \"Apple\", \"Mango\"];\n",
    "\n",
    "fruits.forEach(myFunction);\n",
    "function myFunction(value) {\n",
    "  console.log(value);\n",
    "}"
   ]
  },
  {
   "cell_type": "code",
   "execution_count": null,
   "metadata": {},
   "outputs": [],
   "source": [
    "%%js\n",
    "var person;\n",
    "var person = [{firstName:\"John\", lastName:\"Doe\", age:46}, {firstName:\"Jane\", lastName:\"Doe\", age:46}];\n",
    "\n",
    "person.forEach(myFunction);\n",
    "\n",
    "function myFunction(value) {\n",
    "    console.log(value);\n",
    "    console.log(\"Name:\" + value['firstName'] + \" who is: \" + value.age + \" years old\")\n",
    "}"
   ]
  },
  {
   "cell_type": "markdown",
   "metadata": {},
   "source": [
    "### Document Modification: 💃💃💃\n",
    "Now lets get to the fun stuff, what javascript was built for.\n",
    "<br>\n",
    "Javascript allows us to change webpages on the fly according to data.\n",
    "<br>\n",
    "We can append whole HTML elements, change the style according to data, and much more.\n",
    "<br>\n",
    "First lets view how to modify text on a web page and work up to styling/inserting full elements to a web page"
   ]
  },
  {
   "cell_type": "markdown",
   "metadata": {},
   "source": [
    "https://www.w3schools.com/jsref/tryit.asp?filename=tryjsref_document_getelementbyid"
   ]
  },
  {
   "cell_type": "code",
   "execution_count": null,
   "metadata": {},
   "outputs": [],
   "source": [
    "%%js\n",
    "document.getElementById(\"demo\");"
   ]
  },
  {
   "cell_type": "markdown",
   "metadata": {},
   "source": [
    "https://www.w3schools.com/js/tryit.asp?filename=tryjs_array_loop"
   ]
  },
  {
   "cell_type": "code",
   "execution_count": null,
   "metadata": {},
   "outputs": [],
   "source": [
    "%%js\n",
    "var fruits, text, fLen, i;\n",
    "fruits = [\"Banana\", \"Orange\", \"Apple\", \"Mango\"];\n",
    "fLen = fruits.length;\n",
    "\n",
    "text = \"<ul>\";\n",
    "for (i = 0; i < fLen; i++) {\n",
    "  text += \"<li>\" + fruits[i] + \"</li>\";\n",
    "}\n",
    "text += \"</ul>\";"
   ]
  },
  {
   "cell_type": "markdown",
   "metadata": {},
   "source": [
    "https://www.w3schools.com/js/tryit.asp?filename=tryjs_this_call"
   ]
  },
  {
   "cell_type": "code",
   "execution_count": null,
   "metadata": {},
   "outputs": [],
   "source": [
    "%%js\n",
    "var person1 = {\n",
    "  fullName: function() {\n",
    "    return this.firstName + \" \" + this.lastName;\n",
    "  }\n",
    "}\n",
    "var person2 = {\n",
    "  firstName:\"John\",\n",
    "  lastName: \"Doe\",\n",
    "}\n",
    "person1.fullName.call(person2);  // Will return \"John Doe\""
   ]
  },
  {
   "cell_type": "markdown",
   "metadata": {},
   "source": [
    "https://codepen.io/Eric-Wallen/pen/mwydqL"
   ]
  },
  {
   "cell_type": "code",
   "execution_count": 1,
   "metadata": {},
   "outputs": [
    {
     "data": {
      "application/javascript": [
       "var today = new Date();\n",
       "var hourNow = today.getHours();\n",
       "var greeting;\n",
       "var icon;\n",
       "\n",
       "if (hourNow < 12){\n",
       "  greeting = \"Good Morning\";\n",
       "  icon = \"coffee\";\n",
       "}\n",
       "else if (hourNow < 20){\n",
       "  greeting = 'Good afternoon!';\n",
       "  icon = \"sun-o\";\n",
       "}\n",
       "else if (hourNow < 24){\n",
       "  greeting = \"Good evening\"\n",
       "  icon = \"moon-o\";\n",
       "}\n",
       "else {\n",
       "  greeting = \"Welcome\";\n",
       "}\n",
       "\n",
       "document.getElementById(\"col-1\").innerHTML = \"<h3>\" + greeting + \" </h1>\";\n",
       "\n",
       "document.getElementById(\"icon\").innerHTML = ('<i class=\"fa fa-' + icon + '\" aria-hidden=\"true\"></i>');\n"
      ],
      "text/plain": [
       "<IPython.core.display.Javascript object>"
      ]
     },
     "metadata": {},
     "output_type": "display_data"
    }
   ],
   "source": [
    "%%js\n",
    "var today = new Date();\n",
    "var hourNow = today.getHours();\n",
    "var greeting;\n",
    "var icon;\n",
    "\n",
    "if (hourNow < 12){\n",
    "  greeting = \"Good Morning\";\n",
    "  icon = \"coffee\";\n",
    "}\n",
    "else if (hourNow < 20){\n",
    "  greeting = 'Good afternoon!';\n",
    "  icon = \"sun-o\";\n",
    "}\n",
    "else if (hourNow < 24){\n",
    "  greeting = \"Good evening\"\n",
    "  icon = \"moon-o\";\n",
    "}\n",
    "else {\n",
    "  greeting = \"Welcome\";\n",
    "}\n",
    "\n",
    "document.getElementById(\"col-1\").innerHTML = \"<h3>\" + greeting + \" </h1>\";\n",
    "\n",
    "document.getElementById(\"icon\").innerHTML = ('<i class=\"fa fa-' + icon + '\" aria-hidden=\"true\"></i>');"
   ]
  },
  {
   "cell_type": "markdown",
   "metadata": {},
   "source": [
    "https://codepen.io/deanmcdonagh/pen/OOGbgO"
   ]
  },
  {
   "cell_type": "code",
   "execution_count": null,
   "metadata": {},
   "outputs": [],
   "source": [
    "%%js\n",
    "$(document).ready(function(){\n",
    "\n",
    "/*Please use your own API Key once provided*/\n",
    "/*Please use your own API Key once provided*/\n",
    "/*Please use your own API Key once provided*/    \n",
    "  $.get('https://www.londonprayertimes.com/api/times/?format=json&key=2a99f189-6e3b-4015-8fb8-ff277642561d&24hours=true',\n",
    "          function(data){\n",
    "            $('#fajr').html(data.fajr);\n",
    "            $('#fajr-jamat').html(data.fajr_jamat);\n",
    "            $('#sunrise').html(data.sunrise);\n",
    "            $('#dhur').html(data.dhuhr);\n",
    "            $('#dhur-jamat').html(data.dhuhr_jamat);\n",
    "            $('#asar').html(data.asr);\n",
    "            $('#asar-jamat').html(data.asr_jamat);\n",
    "            $('#magrib').html(data.magrib);\n",
    "            $('#magrib-jamat').html(data.magrib_jamat);\n",
    "            $('#isha').html(data.isha);\n",
    "            $('#isha-jamat').html(data.isha_jamat);\n",
    "            \n",
    "        })\n",
    "      })"
   ]
  }
 ],
 "metadata": {
  "kernelspec": {
   "display_name": "Python 3",
   "language": "python",
   "name": "python3"
  },
  "language_info": {
   "codemirror_mode": {
    "name": "ipython",
    "version": 3
   },
   "file_extension": ".py",
   "mimetype": "text/x-python",
   "name": "python",
   "nbconvert_exporter": "python",
   "pygments_lexer": "ipython3",
   "version": "3.7.6"
  }
 },
 "nbformat": 4,
 "nbformat_minor": 2
}
